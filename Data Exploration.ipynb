{
 "cells": [
  {
   "cell_type": "code",
   "execution_count": 1,
   "metadata": {
    "collapsed": true
   },
   "outputs": [],
   "source": [
    "from scipy import misc\n",
    "import numpy as np\n",
    "import pandas as pd\n",
    "import matplotlib.pyplot as plt\n",
    "from skimage import io\n",
    "import warnings\n",
    "warnings.filterwarnings('ignore')"
   ]
  },
  {
   "cell_type": "markdown",
   "metadata": {},
   "source": [
    "# Preliminary Data Exploration of Vandalism on r/place\n",
    "\n",
    "### Data requirements & Dependencies\n",
    "\n",
    "The final image of place, and the community corrected version of it are both in the resources folder present on the repo. The CSV of all tiles placed through all the 72h is too big to be on the repository, so for this notebook to work, it needs to get downloaded [here](https://storage.googleapis.com/place_events/tile_placements.csv.gz) and put in a \"dataset\" folder at the root of the project"
   ]
  },
  {
   "cell_type": "code",
   "execution_count": null,
   "metadata": {
    "collapsed": true
   },
   "outputs": [],
   "source": []
  },
  {
   "cell_type": "code",
   "execution_count": 2,
   "metadata": {},
   "outputs": [
    {
     "data": {
      "text/html": [
       "<div>\n",
       "<style>\n",
       "    .dataframe thead tr:only-child th {\n",
       "        text-align: right;\n",
       "    }\n",
       "\n",
       "    .dataframe thead th {\n",
       "        text-align: left;\n",
       "    }\n",
       "\n",
       "    .dataframe tbody tr th {\n",
       "        vertical-align: top;\n",
       "    }\n",
       "</style>\n",
       "<table border=\"1\" class=\"dataframe\">\n",
       "  <thead>\n",
       "    <tr style=\"text-align: right;\">\n",
       "      <th></th>\n",
       "      <th>ts</th>\n",
       "      <th>user</th>\n",
       "      <th>x_coordinate</th>\n",
       "      <th>y_coordinate</th>\n",
       "      <th>color</th>\n",
       "    </tr>\n",
       "  </thead>\n",
       "  <tbody>\n",
       "    <tr>\n",
       "      <th>0</th>\n",
       "      <td>1491167838000</td>\n",
       "      <td>c2Md9m4QckH8M+lhNh9btgoiFDk=</td>\n",
       "      <td>326</td>\n",
       "      <td>258</td>\n",
       "      <td>0</td>\n",
       "    </tr>\n",
       "    <tr>\n",
       "      <th>1</th>\n",
       "      <td>1491171651000</td>\n",
       "      <td>5KjCuLCk/VTXBIgaszopYecZ3uU=</td>\n",
       "      <td>190</td>\n",
       "      <td>791</td>\n",
       "      <td>0</td>\n",
       "    </tr>\n",
       "    <tr>\n",
       "      <th>2</th>\n",
       "      <td>1491105072000</td>\n",
       "      <td>toyjOAoAZMtlGZ3hXm5/LYsi+iA=</td>\n",
       "      <td>1</td>\n",
       "      <td>753</td>\n",
       "      <td>0</td>\n",
       "    </tr>\n",
       "    <tr>\n",
       "      <th>3</th>\n",
       "      <td>1491235861000</td>\n",
       "      <td>TGENUMJ6VmaBRr8ae9yP0MWQ66g=</td>\n",
       "      <td>233</td>\n",
       "      <td>931</td>\n",
       "      <td>0</td>\n",
       "    </tr>\n",
       "    <tr>\n",
       "      <th>4</th>\n",
       "      <td>1491163179000</td>\n",
       "      <td>usR8PLvN90gdivTbszEqhvPcXI4=</td>\n",
       "      <td>526</td>\n",
       "      <td>663</td>\n",
       "      <td>0</td>\n",
       "    </tr>\n",
       "    <tr>\n",
       "      <th>5</th>\n",
       "      <td>1491049593000</td>\n",
       "      <td>PhCeV35qg+Kd4HZH2A8YsmwE65w=</td>\n",
       "      <td>578</td>\n",
       "      <td>327</td>\n",
       "      <td>0</td>\n",
       "    </tr>\n",
       "    <tr>\n",
       "      <th>6</th>\n",
       "      <td>1491144746000</td>\n",
       "      <td>h36EHV8mxPdVf6/KSVcVJdQD+3g=</td>\n",
       "      <td>555</td>\n",
       "      <td>330</td>\n",
       "      <td>0</td>\n",
       "    </tr>\n",
       "    <tr>\n",
       "      <th>7</th>\n",
       "      <td>1491233125000</td>\n",
       "      <td>Fs34pA4xcfKSvw/c+kS+P31aB+s=</td>\n",
       "      <td>906</td>\n",
       "      <td>95</td>\n",
       "      <td>0</td>\n",
       "    </tr>\n",
       "    <tr>\n",
       "      <th>8</th>\n",
       "      <td>1491149990000</td>\n",
       "      <td>JSi4ekmizWOUcjae6TFFCLUGeH8=</td>\n",
       "      <td>862</td>\n",
       "      <td>480</td>\n",
       "      <td>0</td>\n",
       "    </tr>\n",
       "    <tr>\n",
       "      <th>9</th>\n",
       "      <td>1491098731000</td>\n",
       "      <td>otYEXzF2K9RLO0VCBSS/bpOcek4=</td>\n",
       "      <td>404</td>\n",
       "      <td>959</td>\n",
       "      <td>0</td>\n",
       "    </tr>\n",
       "  </tbody>\n",
       "</table>\n",
       "</div>"
      ],
      "text/plain": [
       "              ts                          user  x_coordinate  y_coordinate  \\\n",
       "0  1491167838000  c2Md9m4QckH8M+lhNh9btgoiFDk=           326           258   \n",
       "1  1491171651000  5KjCuLCk/VTXBIgaszopYecZ3uU=           190           791   \n",
       "2  1491105072000  toyjOAoAZMtlGZ3hXm5/LYsi+iA=             1           753   \n",
       "3  1491235861000  TGENUMJ6VmaBRr8ae9yP0MWQ66g=           233           931   \n",
       "4  1491163179000  usR8PLvN90gdivTbszEqhvPcXI4=           526           663   \n",
       "5  1491049593000  PhCeV35qg+Kd4HZH2A8YsmwE65w=           578           327   \n",
       "6  1491144746000  h36EHV8mxPdVf6/KSVcVJdQD+3g=           555           330   \n",
       "7  1491233125000  Fs34pA4xcfKSvw/c+kS+P31aB+s=           906            95   \n",
       "8  1491149990000  JSi4ekmizWOUcjae6TFFCLUGeH8=           862           480   \n",
       "9  1491098731000  otYEXzF2K9RLO0VCBSS/bpOcek4=           404           959   \n",
       "\n",
       "   color  \n",
       "0      0  \n",
       "1      0  \n",
       "2      0  \n",
       "3      0  \n",
       "4      0  \n",
       "5      0  \n",
       "6      0  \n",
       "7      0  \n",
       "8      0  \n",
       "9      0  "
      ]
     },
     "execution_count": 2,
     "metadata": {},
     "output_type": "execute_result"
    }
   ],
   "source": [
    "#full dataset gzipped found here : https://www.reddit.com/r/redditdata/comments/6640ru/place_datasets_april_fools_2017/\n",
    "dataset = pd.read_csv(\"dataset/tile_placements.csv\")\n",
    "dataset.head(10)"
   ]
  },
  {
   "cell_type": "code",
   "execution_count": 3,
   "metadata": {},
   "outputs": [
    {
     "data": {
      "text/plain": [
       "16559897"
      ]
     },
     "execution_count": 3,
     "metadata": {},
     "output_type": "execute_result"
    }
   ],
   "source": [
    "len(dataset)"
   ]
  },
  {
   "cell_type": "markdown",
   "metadata": {},
   "source": [
    "### First Statistics of Vandalism on the Final Result\n",
    "Comparing pixels of the final image and the corrected one allows us to already look at how much pixel were vandalised in absolute at the closing of r/place\n"
   ]
  },
  {
   "cell_type": "code",
   "execution_count": 4,
   "metadata": {},
   "outputs": [
    {
     "name": "stdout",
     "output_type": "stream",
     "text": [
      "Number of pixel vandalised : 72681\n",
      "Percentage of pixel vandalised : 7.268100\n"
     ]
    }
   ],
   "source": [
    "canvaFinal = misc.imread(\"resources/canvaFinal.png\")\n",
    "canvaCorr = misc.imread(\"resources/canvaCorrected.png\")\n",
    "\n",
    "#The color value are indexed correctly in the array. Values Found on the same \n",
    "colors = [\n",
    "    '#FFFFFF',\n",
    "    '#E4E4E4',\n",
    "    '#888888',\n",
    "    '#222222',\n",
    "    '#FFA7D1',\n",
    "    '#E50000',\n",
    "    '#E59500',\n",
    "    '#A06A42',\n",
    "    '#E5D900',\n",
    "    '#94E044',\n",
    "    '#02BE01',\n",
    "    '#00E5F0',\n",
    "    '#0083C7',\n",
    "    '#0000EA',\n",
    "    '#E04AFF',\n",
    "    '#820080'\n",
    "]\n",
    "\n",
    "def RGBToHex(value):\n",
    "    return ('#%02x%02x%02x' % (value[0], value[1], value[2])).upper()\n",
    "\n",
    "def HexToRGB(hexStr):\n",
    "    return tuple(int(hexStr.strip('#')[i:i+2], 16) for i in (0, 2 ,4)) \n",
    "\n",
    "def arePixEq(p1, p2):\n",
    "    match = True\n",
    "    for k in range(3):\n",
    "        match = match and p1[k] == p2[k]\n",
    "    return match\n",
    "        \n",
    "total = 1000**2\n",
    "count = 0\n",
    "'''\n",
    "Further analysis later on hit buckets of pixels show that both the corrected image\n",
    "and the final one use the same RGB components. However that's not the case between\n",
    "the two image and the dataset.\n",
    "'''\n",
    "for i in range(999):\n",
    "    for j in range(999):\n",
    "        canvaFinal[i][j]\n",
    "        pix2 = canvaCorr[i][j]\n",
    "        if not arePixEq(canvaFinal[i][j], canvaCorr[i][j]):\n",
    "            count += 1\n",
    "\n",
    "print(\"Number of pixel vandalised : %d\"%(count))\n",
    "print(\"Percentage of pixel vandalised : %lf\"%((100*count)/total))"
   ]
  },
  {
   "cell_type": "markdown",
   "metadata": {},
   "source": [
    "### Mismatched color detection and correction \n",
    "Upon inspection, it came to light that the color code given for the dataset does not match all the pixel color found on both the PNG images. The two cells below will try to correct this follwing this idea : \n",
    "* The first will identify which color are not found in the dataset for both PNGs\n",
    "* The second will compare all the mismatched color from the PNG with the ones of the dataset missing from the PNG, to identify which one they are likely refering to.\n"
   ]
  },
  {
   "cell_type": "code",
   "execution_count": 5,
   "metadata": {},
   "outputs": [
    {
     "name": "stdout",
     "output_type": "stream",
     "text": [
      "Color #00D3DD from the corrected canva was mismatched 1 times\n",
      "Color #00D3DD from the final canva was mismatched 30425 times\n",
      "Color #CF6EE4 from the final canva was mismatched 13280 times\n",
      "Color #CF6EE4 from the corrected canva was mismatched 1 times\n",
      "HitBucket content of Final Canva\n",
      "\tColor #FFFFFF was detected 153789 times\n",
      "\tColor #E4E4E4 was detected 27185 times\n",
      "\tColor #888888 was detected 25183 times\n",
      "\tColor #222222 was detected 257353 times\n",
      "\tColor #FFA7D1 was detected 29123 times\n",
      "\tColor #E50000 was detected 120132 times\n",
      "\tColor #E59500 was detected 57168 times\n",
      "\tColor #A06A42 was detected 17570 times\n",
      "\tColor #E5D900 was detected 63897 times\n",
      "\tColor #94E044 was detected 16800 times\n",
      "\tColor #02BE01 was detected 39484 times\n",
      "\tColor #00E5F0 was detected 0 times\n",
      "\tColor #0083C7 was detected 33516 times\n",
      "\tColor #0000EA was detected 93438 times\n",
      "\tColor #E04AFF was detected 0 times\n",
      "\tColor #820080 was detected 19658 times\n",
      "HitBucket content of Corrected Canva\n",
      "\tColor #FFFFFF was detected 154430 times\n",
      "\tColor #E4E4E4 was detected 26926 times\n",
      "\tColor #888888 was detected 26024 times\n",
      "\tColor #222222 was detected 258109 times\n",
      "\tColor #FFA7D1 was detected 28556 times\n",
      "\tColor #E50000 was detected 123184 times\n",
      "\tColor #E59500 was detected 55621 times\n",
      "\tColor #A06A42 was detected 18019 times\n",
      "\tColor #E5D900 was detected 63712 times\n",
      "\tColor #94E044 was detected 15999 times\n",
      "\tColor #02BE01 was detected 40825 times\n",
      "\tColor #00E5F0 was detected 0 times\n",
      "\tColor #0083C7 was detected 32868 times\n",
      "\tColor #0000EA was detected 90420 times\n",
      "\tColor #E04AFF was detected 0 times\n",
      "\tColor #820080 was detected 19984 times\n"
     ]
    }
   ],
   "source": [
    "#init of all hit buckets\n",
    "mismatches = {}\n",
    "colorsHitF = {}\n",
    "colorsHitC = {}\n",
    "\n",
    "for c in colors:\n",
    "    colorsHitF[c] = 0\n",
    "    \n",
    "for c in colors:\n",
    "    colorsHitC[c] = 0\n",
    "\n",
    "for i in range(999):\n",
    "    for j in range(999):\n",
    "        fPix = canvaCorr[i][j]\n",
    "        cPix = canvaFinal[i][j]\n",
    "        convF = RGBToHex(fPix)\n",
    "        convC = RGBToHex(cPix)\n",
    "        if convF not in colors:\n",
    "            cAddF = 'f'+convF\n",
    "            if cAddF in mismatches.keys():\n",
    "                mismatches[cAddF] += 1\n",
    "            else:\n",
    "                mismatches[cAddF] = 1\n",
    "        else:\n",
    "            colorsHitF[convF] += 1\n",
    "        if convC not in colors:\n",
    "            cAddC = 'c'+convC\n",
    "            if convC in mismatches.keys():\n",
    "                mismatches[cAddC] += 1\n",
    "            else:\n",
    "                mismatches[cAddC] = 1\n",
    "        else:\n",
    "            colorsHitC[convC] += 1\n",
    "            \n",
    "mismatches\n",
    "for k,v in mismatches.items():\n",
    "    if k[0] == 'c':\n",
    "        print(\"Color %s from the corrected canva was mismatched %d times\"%(k[1:], v))\n",
    "    else:\n",
    "        print(\"Color %s from the final canva was mismatched %d times\"%(k[1:], v))\n",
    "    \n",
    "print(\"HitBucket content of Final Canva\")\n",
    "for k,v in colorsHitF.items():\n",
    "    print(\"\\tColor %s was detected %d times\"%(k, v))\n",
    "    \n",
    "print(\"HitBucket content of Corrected Canva\")\n",
    "for k,v in colorsHitC.items():\n",
    "    print(\"\\tColor %s was detected %d times\"%(k, v))\n"
   ]
  },
  {
   "cell_type": "code",
   "execution_count": 6,
   "metadata": {},
   "outputs": [
    {
     "name": "stdout",
     "output_type": "stream",
     "text": [
      "#00E5F0(dataset) vs (canvas)#00D3DD\n"
     ]
    },
    {
     "data": {
      "image/png": "[encoded data removed]",
      "text/plain": [
       "<matplotlib.figure.Figure at 0x10f3c4ef0>"
      ]
     },
     "metadata": {},
     "output_type": "display_data"
    },
    {
     "name": "stdout",
     "output_type": "stream",
     "text": [
      "#00E5F0(dataset) vs (canvas)#CF6EE4\n"
     ]
    },
    {
     "data": {
      "image/png": "[encoded data removed]",
      "text/plain": [
       "<matplotlib.figure.Figure at 0x102f068d0>"
      ]
     },
     "metadata": {},
     "output_type": "display_data"
    },
    {
     "name": "stdout",
     "output_type": "stream",
     "text": [
      "#E04AFF(dataset) vs (canvas)#00D3DD\n"
     ]
    },
    {
     "data": {
      "image/png": "[encoded data removed]",
      "text/plain": [
       "<matplotlib.figure.Figure at 0x10f58a978>"
      ]
     },
     "metadata": {},
     "output_type": "display_data"
    },
    {
     "name": "stdout",
     "output_type": "stream",
     "text": [
      "#E04AFF(dataset) vs (canvas)#CF6EE4\n"
     ]
    },
    {
     "data": {
      "image/png": "[encoded data removed]",
      "text/plain": [
       "<matplotlib.figure.Figure at 0x10f5cf240>"
      ]
     },
     "metadata": {},
     "output_type": "display_data"
    }
   ],
   "source": [
    "absentColors = ['#00E5F0','#E04AFF']\n",
    "mismatchColors = ['#00D3DD','#CF6EE4']\n",
    "\n",
    "for a in absentColors:\n",
    "    for m in mismatchColors:\n",
    "        print(a+ \"(dataset) vs (canvas)\" +m)\n",
    "        arr = np.array([[HexToRGB(a), HexToRGB(m)]], dtype=np.uint8)\n",
    "        io.imshow(arr)\n",
    "        plt.show()\n"
   ]
  },
  {
   "cell_type": "markdown",
   "metadata": {
    "collapsed": true
   },
   "source": [
    "Upon those results, it can safely be assumed that the color #00D3DD should be mapped to #00E5F0 (color code 11 in the array) and the color #CF6EE4 should be mapped to  #E04AFF (color code 14 in the array)"
   ]
  },
  {
   "cell_type": "code",
   "execution_count": 7,
   "metadata": {},
   "outputs": [
    {
     "data": {
      "text/plain": [
       "{'#0000EA': 13,\n",
       " '#0083C7': 12,\n",
       " '#00D3DD': 11,\n",
       " '#00E5F0': 11,\n",
       " '#02BE01': 10,\n",
       " '#222222': 3,\n",
       " '#820080': 15,\n",
       " '#888888': 2,\n",
       " '#94E044': 9,\n",
       " '#A06A42': 7,\n",
       " '#CF6EE4': 14,\n",
       " '#E04AFF': 14,\n",
       " '#E4E4E4': 1,\n",
       " '#E50000': 5,\n",
       " '#E59500': 6,\n",
       " '#E5D900': 8,\n",
       " '#FFA7D1': 4,\n",
       " '#FFFFFF': 0}"
      ]
     },
     "execution_count": 7,
     "metadata": {},
     "output_type": "execute_result"
    }
   ],
   "source": [
    "colorCodeTranslation = {}\n",
    "idx = 0\n",
    "while(idx < len(colors)):\n",
    "    colorCodeTranslation[colors[idx]] = idx\n",
    "    idx += 1\n",
    "\n",
    "colorCodeTranslation['#00D3DD'] = 11\n",
    "colorCodeTranslation['#CF6EE4'] = 14\n",
    "colorCodeTranslation"
   ]
  },
  {
   "cell_type": "markdown",
   "metadata": {},
   "source": [
    "### Processing Data for next steps\n",
    "To work with the dataset, we need a version of the image which contains only the correct color code :"
   ]
  },
  {
   "cell_type": "code",
   "execution_count": 8,
   "metadata": {},
   "outputs": [
    {
     "data": {
      "text/plain": [
       "(1000, 1000)"
      ]
     },
     "execution_count": 8,
     "metadata": {},
     "output_type": "execute_result"
    }
   ],
   "source": [
    "canvaCorrCode = [[colorCodeTranslation[RGBToHex(j)] for j in i] for i in canvaCorr]\n",
    "np.shape(canvaCorrCode)"
   ]
  },
  {
   "cell_type": "markdown",
   "metadata": {},
   "source": [
    "Now, the idea would be to analyse raw vandalism for each pixel as a whole, i.e. count all numbers differents from the one on the corrected canva, and put them in a 1000\\*1000 matrix and/or a DataFrame"
   ]
  },
  {
   "cell_type": "code",
   "execution_count": 9,
   "metadata": {
    "collapsed": true
   },
   "outputs": [],
   "source": [
    "heatMap = np.zeros(shape=(1000, 1000))\n",
    "def pixDeviate(row):\n",
    "    if not couleur == canvaCorrCode[x][y]:\n",
    "        return True\n",
    "    else:\n",
    "        return False\n",
    "\n",
    "def getRefColor(row):\n",
    "    x = int(row['x_coordinate'])\n",
    "    y = int(row['y_coordinate'])\n",
    "    if x > 999:\n",
    "        return -1\n",
    "    elif y > 999:\n",
    "        return -1\n",
    "    else:\n",
    "        return canvaCorrCode[x][y]\n",
    "\n",
    "dataset['refColor'] = dataset.apply(getRefColor, axis=1)"
   ]
  },
  {
   "cell_type": "code",
   "execution_count": 10,
   "metadata": {
    "collapsed": true
   },
   "outputs": [],
   "source": [
    "filteredData = dataset[(dataset.color  != dataset.refColor) & (dataset.refColor  != -1)]"
   ]
  },
  {
   "cell_type": "code",
   "execution_count": 11,
   "metadata": {},
   "outputs": [
    {
     "data": {
      "text/plain": [
       "array([[  4898.,    634.,    214., ...,    219.,    579.,   3183.],\n",
       "       [   845.,   1680.,    280., ...,    424.,    895.,    760.],\n",
       "       [   246.,    639.,    351., ...,    401.,    229.,    237.],\n",
       "       ..., \n",
       "       [  1107.,    276.,    402., ...,    506.,    489.,    681.],\n",
       "       [   857.,    946.,    296., ...,    338.,   1690.,   2942.],\n",
       "       [  4711.,   1151.,    411., ...,    490.,   2254.,  16578.]])"
      ]
     },
     "execution_count": 11,
     "metadata": {},
     "output_type": "execute_result"
    }
   ],
   "source": [
    "def fillArray(row):\n",
    "    x = row['x_coordinate']\n",
    "    y = row['y_coordinate']\n",
    "    count = row['counts']\n",
    "    heatMap[x][y] += count\n",
    "res = filteredData.groupby(['x_coordinate', 'y_coordinate']).size().reset_index(name='counts')\n",
    "res.apply(fillArray, axis=1)\n",
    "\n",
    "heatMap"
   ]
  },
  {
   "cell_type": "code",
   "execution_count": 12,
   "metadata": {},
   "outputs": [
    {
     "data": {
      "text/plain": [
       "3256"
      ]
     },
     "execution_count": 12,
     "metadata": {},
     "output_type": "execute_result"
    }
   ],
   "source": [
    "wrongPix = dataset[(dataset.x_coordinate > 999) | (dataset.y_coordinate > 999)]\n",
    "len(wrongPix)"
   ]
  },
  {
   "cell_type": "code",
   "execution_count": 13,
   "metadata": {},
   "outputs": [
    {
     "name": "stdout",
     "output_type": "stream",
     "text": [
      "16578.0\n",
      "0.0\n"
     ]
    }
   ],
   "source": [
    "maxCollision = np.amax(heatMap)\n",
    "minCollisions = np.amin(heatMap)\n",
    "print(maxCollision)\n",
    "print(minCollisions)"
   ]
  },
  {
   "cell_type": "code",
   "execution_count": 14,
   "metadata": {},
   "outputs": [
    {
     "data": {
      "image/png": "[encoded data removed]",
      "text/plain": [
       "<matplotlib.figure.Figure at 0x10fe4fef0>"
      ]
     },
     "metadata": {},
     "output_type": "display_data"
    }
   ],
   "source": [
    "plt.imshow(heatMap, cmap='hot', interpolation='nearest')\n",
    "plt.show()"
   ]
  },
  {
   "cell_type": "code",
   "execution_count": 15,
   "metadata": {},
   "outputs": [
    {
     "data": {
      "image/png": "[encoded data removed]",
      "text/plain": [
       "<matplotlib.figure.Figure at 0x1032cda20>"
      ]
     },
     "metadata": {},
     "output_type": "display_data"
    }
   ],
   "source": [
    "import seaborn as sns\n",
    "ax = sns.heatmap(heatMap)\n",
    "plt.show()\n",
    "#only the extreme lower right corner pixel is another color...."
   ]
  },
  {
   "cell_type": "code",
   "execution_count": 16,
   "metadata": {},
   "outputs": [
    {
     "data": {
      "image/png": "[encoded data removed]",
      "text/plain": [
       "<matplotlib.figure.Figure at 0x110a33e48>"
      ]
     },
     "metadata": {},
     "output_type": "display_data"
    }
   ],
   "source": [
    "#We need to understand how the data is dispersed.\n",
    "valuesArr = np.reshape(heatMap, (1000**2, 1))\n",
    "_, ax = plt.subplots()\n",
    "ax.set(xscale=\"log\")\n",
    "d = sns.distplot(valuesArr, color='r',\n",
    "                 hist_kws=dict(cumulative=True),\n",
    "                 kde_kws=dict(cumulative=True), hist = False)\n",
    "plt.show()"
   ]
  },
  {
   "cell_type": "code",
   "execution_count": 17,
   "metadata": {},
   "outputs": [
    {
     "data": {
      "image/png": "[encoded data removed]",
      "text/plain": [
       "<matplotlib.figure.Figure at 0x110d7f908>"
      ]
     },
     "metadata": {},
     "output_type": "display_data"
    }
   ],
   "source": [
    "#well it is poorly distributed, let's remove the outlier\n",
    "heatMap[999][999] = 0\n",
    "ax = sns.heatmap(heatMap)\n",
    "plt.show()"
   ]
  }
 ],
 "metadata": {
  "kernelspec": {
   "display_name": "Python 3",
   "language": "python",
   "name": "python3"
  },
  "language_info": {
   "codemirror_mode": {
    "name": "ipython",
    "version": 3
   },
   "file_extension": ".py",
   "mimetype": "text/x-python",
   "name": "python",
   "nbconvert_exporter": "python",
   "pygments_lexer": "ipython3",
   "version": "3.6.3"
  }
 },
 "nbformat": 4,
 "nbformat_minor": 2
}
