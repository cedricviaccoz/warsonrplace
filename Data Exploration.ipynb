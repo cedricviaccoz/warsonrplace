{
 "cells": [
  {
   "cell_type": "code",
   "execution_count": 1,
   "metadata": {
    "collapsed": true
   },
   "outputs": [],
   "source": [
    "from scipy import misc\n",
    "import numpy as np\n",
    "import pandas as pd\n",
    "import matplotlib.pyplot as plt\n",
    "from skimage import io"
   ]
  },
  {
   "cell_type": "code",
   "execution_count": 45,
   "metadata": {},
   "outputs": [
    {
     "data": {
      "text/html": [
       "<div>\n",
       "<style>\n",
       "    .dataframe thead tr:only-child th {\n",
       "        text-align: right;\n",
       "    }\n",
       "\n",
       "    .dataframe thead th {\n",
       "        text-align: left;\n",
       "    }\n",
       "\n",
       "    .dataframe tbody tr th {\n",
       "        vertical-align: top;\n",
       "    }\n",
       "</style>\n",
       "<table border=\"1\" class=\"dataframe\">\n",
       "  <thead>\n",
       "    <tr style=\"text-align: right;\">\n",
       "      <th></th>\n",
       "      <th>ts</th>\n",
       "      <th>user</th>\n",
       "      <th>x_coordinate</th>\n",
       "      <th>y_coordinate</th>\n",
       "      <th>color</th>\n",
       "    </tr>\n",
       "  </thead>\n",
       "  <tbody>\n",
       "    <tr>\n",
       "      <th>0</th>\n",
       "      <td>1491167838000</td>\n",
       "      <td>c2Md9m4QckH8M+lhNh9btgoiFDk=</td>\n",
       "      <td>326</td>\n",
       "      <td>258</td>\n",
       "      <td>0</td>\n",
       "    </tr>\n",
       "    <tr>\n",
       "      <th>1</th>\n",
       "      <td>1491171651000</td>\n",
       "      <td>5KjCuLCk/VTXBIgaszopYecZ3uU=</td>\n",
       "      <td>190</td>\n",
       "      <td>791</td>\n",
       "      <td>0</td>\n",
       "    </tr>\n",
       "    <tr>\n",
       "      <th>2</th>\n",
       "      <td>1491105072000</td>\n",
       "      <td>toyjOAoAZMtlGZ3hXm5/LYsi+iA=</td>\n",
       "      <td>1</td>\n",
       "      <td>753</td>\n",
       "      <td>0</td>\n",
       "    </tr>\n",
       "    <tr>\n",
       "      <th>3</th>\n",
       "      <td>1491235861000</td>\n",
       "      <td>TGENUMJ6VmaBRr8ae9yP0MWQ66g=</td>\n",
       "      <td>233</td>\n",
       "      <td>931</td>\n",
       "      <td>0</td>\n",
       "    </tr>\n",
       "    <tr>\n",
       "      <th>4</th>\n",
       "      <td>1491163179000</td>\n",
       "      <td>usR8PLvN90gdivTbszEqhvPcXI4=</td>\n",
       "      <td>526</td>\n",
       "      <td>663</td>\n",
       "      <td>0</td>\n",
       "    </tr>\n",
       "    <tr>\n",
       "      <th>5</th>\n",
       "      <td>1491049593000</td>\n",
       "      <td>PhCeV35qg+Kd4HZH2A8YsmwE65w=</td>\n",
       "      <td>578</td>\n",
       "      <td>327</td>\n",
       "      <td>0</td>\n",
       "    </tr>\n",
       "    <tr>\n",
       "      <th>6</th>\n",
       "      <td>1491144746000</td>\n",
       "      <td>h36EHV8mxPdVf6/KSVcVJdQD+3g=</td>\n",
       "      <td>555</td>\n",
       "      <td>330</td>\n",
       "      <td>0</td>\n",
       "    </tr>\n",
       "    <tr>\n",
       "      <th>7</th>\n",
       "      <td>1491233125000</td>\n",
       "      <td>Fs34pA4xcfKSvw/c+kS+P31aB+s=</td>\n",
       "      <td>906</td>\n",
       "      <td>95</td>\n",
       "      <td>0</td>\n",
       "    </tr>\n",
       "    <tr>\n",
       "      <th>8</th>\n",
       "      <td>1491149990000</td>\n",
       "      <td>JSi4ekmizWOUcjae6TFFCLUGeH8=</td>\n",
       "      <td>862</td>\n",
       "      <td>480</td>\n",
       "      <td>0</td>\n",
       "    </tr>\n",
       "    <tr>\n",
       "      <th>9</th>\n",
       "      <td>1491098731000</td>\n",
       "      <td>otYEXzF2K9RLO0VCBSS/bpOcek4=</td>\n",
       "      <td>404</td>\n",
       "      <td>959</td>\n",
       "      <td>0</td>\n",
       "    </tr>\n",
       "  </tbody>\n",
       "</table>\n",
       "</div>"
      ],
      "text/plain": [
       "              ts                          user  x_coordinate  y_coordinate  \\\n",
       "0  1491167838000  c2Md9m4QckH8M+lhNh9btgoiFDk=           326           258   \n",
       "1  1491171651000  5KjCuLCk/VTXBIgaszopYecZ3uU=           190           791   \n",
       "2  1491105072000  toyjOAoAZMtlGZ3hXm5/LYsi+iA=             1           753   \n",
       "3  1491235861000  TGENUMJ6VmaBRr8ae9yP0MWQ66g=           233           931   \n",
       "4  1491163179000  usR8PLvN90gdivTbszEqhvPcXI4=           526           663   \n",
       "5  1491049593000  PhCeV35qg+Kd4HZH2A8YsmwE65w=           578           327   \n",
       "6  1491144746000  h36EHV8mxPdVf6/KSVcVJdQD+3g=           555           330   \n",
       "7  1491233125000  Fs34pA4xcfKSvw/c+kS+P31aB+s=           906            95   \n",
       "8  1491149990000  JSi4ekmizWOUcjae6TFFCLUGeH8=           862           480   \n",
       "9  1491098731000  otYEXzF2K9RLO0VCBSS/bpOcek4=           404           959   \n",
       "\n",
       "   color  \n",
       "0      0  \n",
       "1      0  \n",
       "2      0  \n",
       "3      0  \n",
       "4      0  \n",
       "5      0  \n",
       "6      0  \n",
       "7      0  \n",
       "8      0  \n",
       "9      0  "
      ]
     },
     "execution_count": 45,
     "metadata": {},
     "output_type": "execute_result"
    }
   ],
   "source": [
    "#full dataset gzipped found here : https://www.reddit.com/r/redditdata/comments/6640ru/place_datasets_april_fools_2017/\n",
    "dataset = pd.read_csv(\"dataset/tile_placements.csv\")\n",
    "dataset.head(10)"
   ]
  },
  {
   "cell_type": "code",
   "execution_count": 37,
   "metadata": {
    "collapsed": true
   },
   "outputs": [],
   "source": [
    "canvaFinal = misc.imread(\"resources/canvaFinal.png\")\n",
    "canvaCorr = misc.imread(\"resources/canvaCorrected.png\")\n",
    "\n",
    "#The color value are indexed correctly in the array.\n",
    "colors = [\n",
    "    '#FFFFFF',\n",
    "    '#E4E4E4',\n",
    "    '#888888',\n",
    "    '#222222',\n",
    "    '#FFA7D1',\n",
    "    '#E50000',\n",
    "    '#E59500',\n",
    "    '#A06A42',\n",
    "    '#E5D900',\n",
    "    '#94E044',\n",
    "    '#02BE01',\n",
    "    '#00E5F0',\n",
    "    '#0083C7',\n",
    "    '#0000EA',\n",
    "    '#E04AFF',\n",
    "    '#820080'\n",
    "]\n",
    "\n",
    "def RGBToHex(value):\n",
    "    return ('#%02x%02x%02x' % (value[0], value[1], value[2])).upper()\n",
    "\n",
    "def HexToRGB(hexStr):\n",
    "    return tuple(int(hexStr.strip('#')[i:i+2], 16) for i in (0, 2 ,4))   "
   ]
  },
  {
   "cell_type": "code",
   "execution_count": 5,
   "metadata": {},
   "outputs": [
    {
     "name": "stdout",
     "output_type": "stream",
     "text": [
      "Number of pixel vandalised : 72681\n",
      "Percentage of pixel vandalised : 7.268100\n"
     ]
    }
   ],
   "source": [
    "def arePixEq(p1, p2):\n",
    "    match = True\n",
    "    for k in range(3):\n",
    "        match = match and p1[k] == p2[k]\n",
    "    return match\n",
    "        \n",
    "total = 1000**2\n",
    "count = 0\n",
    "#I've not checked all colors so far, but I'll assume both image have the exact same RGB component for pixels of the same color.\n",
    "for i in range(999):\n",
    "    for j in range(999):\n",
    "        canvaFinal[i][j]\n",
    "        pix2 = canvaCorr[i][j]\n",
    "        if not arePixEq(canvaFinal[i][j], canvaCorr[i][j]):\n",
    "            count += 1\n",
    "\n",
    "print(\"Number of pixel vandalised : %d\"%(count))\n",
    "print(\"Percentage of pixel vandalised : %lf\"%((100*count)/total))"
   ]
  },
  {
   "cell_type": "code",
   "execution_count": 7,
   "metadata": {},
   "outputs": [
    {
     "name": "stdout",
     "output_type": "stream",
     "text": [
      "4\n",
      "Color c#00D3DD was mismatched 1 times\n",
      "Color f#00D3DD was mismatched 30425 times\n",
      "Color f#CF6EE4 was mismatched 13280 times\n",
      "Color c#CF6EE4 was mismatched 1 times\n",
      "HitBucket content of Final Canva\n",
      "\tColor #FFFFFF was detected 153789 times\n",
      "\tColor #E4E4E4 was detected 27185 times\n",
      "\tColor #888888 was detected 25183 times\n",
      "\tColor #222222 was detected 257353 times\n",
      "\tColor #FFA7D1 was detected 29123 times\n",
      "\tColor #E50000 was detected 120132 times\n",
      "\tColor #E59500 was detected 57168 times\n",
      "\tColor #A06A42 was detected 17570 times\n",
      "\tColor #E5D900 was detected 63897 times\n",
      "\tColor #94E044 was detected 16800 times\n",
      "\tColor #02BE01 was detected 39484 times\n",
      "\tColor #00E5F0 was detected 0 times\n",
      "\tColor #0083C7 was detected 33516 times\n",
      "\tColor #0000EA was detected 93438 times\n",
      "\tColor #E04AFF was detected 0 times\n",
      "\tColor #820080 was detected 19658 times\n",
      "HitBucket content of Corrected Canva\n",
      "\tColor #FFFFFF was detected 154430 times\n",
      "\tColor #E4E4E4 was detected 26926 times\n",
      "\tColor #888888 was detected 26024 times\n",
      "\tColor #222222 was detected 258109 times\n",
      "\tColor #FFA7D1 was detected 28556 times\n",
      "\tColor #E50000 was detected 123184 times\n",
      "\tColor #E59500 was detected 55621 times\n",
      "\tColor #A06A42 was detected 18019 times\n",
      "\tColor #E5D900 was detected 63712 times\n",
      "\tColor #94E044 was detected 15999 times\n",
      "\tColor #02BE01 was detected 40825 times\n",
      "\tColor #00E5F0 was detected 0 times\n",
      "\tColor #0083C7 was detected 32868 times\n",
      "\tColor #0000EA was detected 90420 times\n",
      "\tColor #E04AFF was detected 0 times\n",
      "\tColor #820080 was detected 19984 times\n"
     ]
    }
   ],
   "source": [
    "#init of all hit buckets\n",
    "mismatches = {}\n",
    "colorsHitF = {}\n",
    "colorsHitC = {}\n",
    "\n",
    "for c in colors:\n",
    "    colorsHitF[c] = 0\n",
    "    \n",
    "for c in colors:\n",
    "    colorsHitC[c] = 0\n",
    "\n",
    "for i in range(999):\n",
    "    for j in range(999):\n",
    "        fPix = canvaCorr[i][j]\n",
    "        cPix = canvaFinal[i][j]\n",
    "        convF = RGBToHex(fPix)\n",
    "        convC = RGBToHex(cPix)\n",
    "        if convF not in colors:\n",
    "            cAddF = 'f'+convF\n",
    "            if cAddF in mismatches.keys():\n",
    "                mismatches[cAddF] += 1\n",
    "            else:\n",
    "                mismatches[cAddF] =1\n",
    "        else:\n",
    "            colorsHitF[convF] += 1\n",
    "        if convC not in colors:\n",
    "            cAddC = 'c'+convC\n",
    "            if convC in mismatches.keys():\n",
    "                mismatches[cAddC] += 1\n",
    "            else:\n",
    "                mismatches[cAddC] =1\n",
    "        else:\n",
    "            colorsHitC[convC] += 1\n",
    "            \n",
    "print(len(mismatches))\n",
    "mismatches\n",
    "for k,v in mismatches.items():\n",
    "    print(\"Color %s was mismatched %d times\"%(k, v))\n",
    "    \n",
    "print(\"HitBucket content of Final Canva\")\n",
    "for k,v in colorsHitF.items():\n",
    "    print(\"\\tColor %s was detected %d times\"%(k, v))\n",
    "    \n",
    "print(\"HitBucket content of Corrected Canva\")\n",
    "for k,v in colorsHitC.items():\n",
    "    print(\"\\tColor %s was detected %d times\"%(k, v))\n"
   ]
  },
  {
   "cell_type": "code",
   "execution_count": 44,
   "metadata": {},
   "outputs": [
    {
     "name": "stdout",
     "output_type": "stream",
     "text": [
      "#00E5F0 vs #00D3DD\n"
     ]
    },
    {
     "name": "stderr",
     "output_type": "stream",
     "text": [
      "/anaconda3/lib/python3.6/site-packages/skimage/io/_plugins/matplotlib_plugin.py:74: UserWarning: Low image data range; displaying image with stretched contrast.\n",
      "  warn(\"Low image data range; displaying image with \"\n"
     ]
    },
    {
     "data": {
      "image/png": "[encoded data removed]",
      "text/plain": [
       "<matplotlib.figure.Figure at 0x1a13681f28>"
      ]
     },
     "metadata": {},
     "output_type": "display_data"
    },
    {
     "name": "stdout",
     "output_type": "stream",
     "text": [
      "#00E5F0 vs #CF6EE4\n"
     ]
    },
    {
     "data": {
      "image/png": "[encoded data removed]",
      "text/plain": [
       "<matplotlib.figure.Figure at 0x1a140a99e8>"
      ]
     },
     "metadata": {},
     "output_type": "display_data"
    },
    {
     "name": "stdout",
     "output_type": "stream",
     "text": [
      "#E04AFF vs #00D3DD\n"
     ]
    },
    {
     "data": {
      "image/png": "[encoded data removed]",
      "text/plain": [
       "<matplotlib.figure.Figure at 0x1a13f3c1d0>"
      ]
     },
     "metadata": {},
     "output_type": "display_data"
    },
    {
     "name": "stdout",
     "output_type": "stream",
     "text": [
      "#E04AFF vs #CF6EE4\n"
     ]
    },
    {
     "data": {
      "image/png": "[encoded data removed]",
      "text/plain": [
       "<matplotlib.figure.Figure at 0x1a1423d9e8>"
      ]
     },
     "metadata": {},
     "output_type": "display_data"
    },
    {
     "data": {
      "text/plain": [
       "'\\narr0 = np.array([[HexToRGB(absentColors[0]), HexToRGB(mismatchColors[0])]], dtype=np.uint8)\\nio.imshow(arr0)\\nplt.show()\\narr1 = np.array([[HexToRGB(absentColors[1]), HexToRGB(mismatchColors[1])]], dtype=np.uint8)\\nio.imshow(arr1)\\nplt.show()\\n'"
      ]
     },
     "execution_count": 44,
     "metadata": {},
     "output_type": "execute_result"
    }
   ],
   "source": [
    "absentColors = ['#00E5F0','#E04AFF']\n",
    "mismatchColors = ['#00D3DD','#CF6EE4']\n",
    "HexToRBG('#00E5F0')\n",
    "#arr = np.array([[HexToRGB(absentColors[0]), HexToRGB(mismatchColors[0])]], dtype=np.uint8)\n",
    "\n",
    "for a in absentColors:\n",
    "    for m in mismatchColors:\n",
    "        print(a+ \" vs \" +m)\n",
    "        arr = np.array([[HexToRGB(a), HexToRGB(m)]], dtype=np.uint8)\n",
    "        io.imshow(arr)\n",
    "        plt.show()\n"
   ]
  },
  {
   "cell_type": "code",
   "execution_count": null,
   "metadata": {
    "collapsed": true
   },
   "outputs": [],
   "source": []
  }
 ],
 "metadata": {
  "kernelspec": {
   "display_name": "Python 3",
   "language": "python",
   "name": "python3"
  },
  "language_info": {
   "codemirror_mode": {
    "name": "ipython",
    "version": 3
   },
   "file_extension": ".py",
   "mimetype": "text/x-python",
   "name": "python",
   "nbconvert_exporter": "python",
   "pygments_lexer": "ipython3",
   "version": "3.6.3"
  }
 },
 "nbformat": 4,
 "nbformat_minor": 2
}
